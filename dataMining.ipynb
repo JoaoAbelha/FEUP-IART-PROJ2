{
 "cells": [
  {
   "cell_type": "code",
   "execution_count": 38,
   "metadata": {},
   "outputs": [],
   "source": [
    "## Importing required libraries\n",
    "import sqlite3\n",
    "import pandas as pd\n",
    "import numpy as np\n",
    "import seaborn as sns\n",
    "import itertools\n",
    "\n",
    "import matplotlib.pyplot as plt\n",
    "#import tensorflow\n",
    "\n",
    "from sklearn.ensemble import GradientBoostingClassifier\n",
    "from sklearn.ensemble import AdaBoostClassifier \n",
    "from sklearn.ensemble import RandomForestClassifier\n",
    "from sklearn.naive_bayes import GaussianNB\n",
    "from sklearn.neighbors import KNeighborsClassifier\n",
    "\n",
    "from sklearn import linear_model\n",
    "from sklearn.metrics import confusion_matrix\n",
    "from sklearn import metrics\n",
    "\n",
    "from sklearn.metrics import classification_report, accuracy_score\n",
    "from sklearn.calibration import CalibratedClassifierCV\n",
    "from sklearn import model_selection\n",
    "from sklearn.model_selection import train_test_split\n",
    "from sklearn.metrics import make_scorer\n",
    "\n",
    "from time import time\n",
    "from sklearn.decomposition import PCA, FastICA\n",
    "from sklearn.pipeline import Pipeline\n",
    "from sklearn.model_selection import StratifiedShuffleSplit\n",
    "from sklearn.model_selection import StratifiedKFold\n",
    "\n",
    "from sklearn.feature_selection import SelectKBest\n",
    "from sklearn.feature_selection import f_classif\n",
    "from sklearn.ensemble import ExtraTreesClassifier\n",
    "'''\n",
    "from tensorflow import keras\n",
    "from keras.utils.np_utils import to_categorical\n",
    "'''\n",
    "import warnings\n",
    "import os\n",
    "\n",
    "warnings.simplefilter(\"ignore\")"
   ]
  },
  {
   "cell_type": "markdown",
   "metadata": {},
   "source": [
    "### Read processed data from file\n",
    "\n",
    "<p>Reading the labels and the features</p>"
   ]
  },
  {
   "cell_type": "code",
   "execution_count": 3,
   "metadata": {},
   "outputs": [
    {
     "data": {
      "text/html": [
       "<div>\n",
       "<style scoped>\n",
       "    .dataframe tbody tr th:only-of-type {\n",
       "        vertical-align: middle;\n",
       "    }\n",
       "\n",
       "    .dataframe tbody tr th {\n",
       "        vertical-align: top;\n",
       "    }\n",
       "\n",
       "    .dataframe thead th {\n",
       "        text-align: right;\n",
       "    }\n",
       "</style>\n",
       "<table border=\"1\" class=\"dataframe\">\n",
       "  <thead>\n",
       "    <tr style=\"text-align: right;\">\n",
       "      <th></th>\n",
       "      <th>home_team_goals_difference</th>\n",
       "      <th>away_team_goals_difference</th>\n",
       "      <th>games_won_home_team</th>\n",
       "      <th>games_won_away_team</th>\n",
       "      <th>games_against_home</th>\n",
       "      <th>games_against_away</th>\n",
       "      <th>home_player_1_overall_rating</th>\n",
       "      <th>home_player_2_overall_rating</th>\n",
       "      <th>home_player_3_overall_rating</th>\n",
       "      <th>home_player_4_overall_rating</th>\n",
       "      <th>...</th>\n",
       "      <th>away_player_5_overall_rating</th>\n",
       "      <th>away_player_6_overall_rating</th>\n",
       "      <th>away_player_7_overall_rating</th>\n",
       "      <th>away_player_8_overall_rating</th>\n",
       "      <th>away_player_9_overall_rating</th>\n",
       "      <th>away_player_10_overall_rating</th>\n",
       "      <th>away_player_11_overall_rating</th>\n",
       "      <th>odds_home</th>\n",
       "      <th>odds_draw</th>\n",
       "      <th>odds_away</th>\n",
       "    </tr>\n",
       "  </thead>\n",
       "  <tbody>\n",
       "    <tr>\n",
       "      <th>0</th>\n",
       "      <td>-9.0</td>\n",
       "      <td>7.0</td>\n",
       "      <td>2.0</td>\n",
       "      <td>6.0</td>\n",
       "      <td>0.0</td>\n",
       "      <td>1.0</td>\n",
       "      <td>71.0</td>\n",
       "      <td>59.0</td>\n",
       "      <td>61.0</td>\n",
       "      <td>67.0</td>\n",
       "      <td>...</td>\n",
       "      <td>66.0</td>\n",
       "      <td>69.0</td>\n",
       "      <td>68.0</td>\n",
       "      <td>68.0</td>\n",
       "      <td>72.0</td>\n",
       "      <td>66.0</td>\n",
       "      <td>63.0</td>\n",
       "      <td>0.379532</td>\n",
       "      <td>0.287801</td>\n",
       "      <td>0.332667</td>\n",
       "    </tr>\n",
       "    <tr>\n",
       "      <th>1</th>\n",
       "      <td>-5.0</td>\n",
       "      <td>-12.0</td>\n",
       "      <td>2.0</td>\n",
       "      <td>1.0</td>\n",
       "      <td>0.0</td>\n",
       "      <td>1.0</td>\n",
       "      <td>64.0</td>\n",
       "      <td>61.0</td>\n",
       "      <td>69.0</td>\n",
       "      <td>64.0</td>\n",
       "      <td>...</td>\n",
       "      <td>63.0</td>\n",
       "      <td>66.0</td>\n",
       "      <td>67.0</td>\n",
       "      <td>62.0</td>\n",
       "      <td>65.0</td>\n",
       "      <td>62.0</td>\n",
       "      <td>66.0</td>\n",
       "      <td>0.503166</td>\n",
       "      <td>0.266833</td>\n",
       "      <td>0.230001</td>\n",
       "    </tr>\n",
       "    <tr>\n",
       "      <th>2</th>\n",
       "      <td>5.0</td>\n",
       "      <td>3.0</td>\n",
       "      <td>5.0</td>\n",
       "      <td>4.0</td>\n",
       "      <td>0.0</td>\n",
       "      <td>2.0</td>\n",
       "      <td>69.0</td>\n",
       "      <td>70.0</td>\n",
       "      <td>72.0</td>\n",
       "      <td>66.0</td>\n",
       "      <td>...</td>\n",
       "      <td>64.0</td>\n",
       "      <td>62.0</td>\n",
       "      <td>61.0</td>\n",
       "      <td>66.0</td>\n",
       "      <td>65.0</td>\n",
       "      <td>72.0</td>\n",
       "      <td>70.0</td>\n",
       "      <td>0.530293</td>\n",
       "      <td>0.264442</td>\n",
       "      <td>0.205265</td>\n",
       "    </tr>\n",
       "    <tr>\n",
       "      <th>3</th>\n",
       "      <td>0.0</td>\n",
       "      <td>-5.0</td>\n",
       "      <td>4.0</td>\n",
       "      <td>2.0</td>\n",
       "      <td>0.0</td>\n",
       "      <td>0.0</td>\n",
       "      <td>69.0</td>\n",
       "      <td>68.0</td>\n",
       "      <td>69.0</td>\n",
       "      <td>64.0</td>\n",
       "      <td>...</td>\n",
       "      <td>60.0</td>\n",
       "      <td>63.0</td>\n",
       "      <td>64.0</td>\n",
       "      <td>59.0</td>\n",
       "      <td>61.0</td>\n",
       "      <td>64.0</td>\n",
       "      <td>56.0</td>\n",
       "      <td>0.580711</td>\n",
       "      <td>0.246617</td>\n",
       "      <td>0.172672</td>\n",
       "    </tr>\n",
       "    <tr>\n",
       "      <th>4</th>\n",
       "      <td>11.0</td>\n",
       "      <td>0.0</td>\n",
       "      <td>8.0</td>\n",
       "      <td>0.0</td>\n",
       "      <td>0.0</td>\n",
       "      <td>0.0</td>\n",
       "      <td>65.0</td>\n",
       "      <td>71.0</td>\n",
       "      <td>72.0</td>\n",
       "      <td>73.0</td>\n",
       "      <td>...</td>\n",
       "      <td>60.0</td>\n",
       "      <td>61.0</td>\n",
       "      <td>67.0</td>\n",
       "      <td>66.0</td>\n",
       "      <td>61.0</td>\n",
       "      <td>66.0</td>\n",
       "      <td>63.0</td>\n",
       "      <td>0.695433</td>\n",
       "      <td>0.190179</td>\n",
       "      <td>0.114387</td>\n",
       "    </tr>\n",
       "  </tbody>\n",
       "</table>\n",
       "<p>5 rows × 31 columns</p>\n",
       "</div>"
      ],
      "text/plain": [
       "   home_team_goals_difference  away_team_goals_difference  \\\n",
       "0                        -9.0                         7.0   \n",
       "1                        -5.0                       -12.0   \n",
       "2                         5.0                         3.0   \n",
       "3                         0.0                        -5.0   \n",
       "4                        11.0                         0.0   \n",
       "\n",
       "   games_won_home_team  games_won_away_team  games_against_home  \\\n",
       "0                  2.0                  6.0                 0.0   \n",
       "1                  2.0                  1.0                 0.0   \n",
       "2                  5.0                  4.0                 0.0   \n",
       "3                  4.0                  2.0                 0.0   \n",
       "4                  8.0                  0.0                 0.0   \n",
       "\n",
       "   games_against_away  home_player_1_overall_rating  \\\n",
       "0                 1.0                          71.0   \n",
       "1                 1.0                          64.0   \n",
       "2                 2.0                          69.0   \n",
       "3                 0.0                          69.0   \n",
       "4                 0.0                          65.0   \n",
       "\n",
       "   home_player_2_overall_rating  home_player_3_overall_rating  \\\n",
       "0                          59.0                          61.0   \n",
       "1                          61.0                          69.0   \n",
       "2                          70.0                          72.0   \n",
       "3                          68.0                          69.0   \n",
       "4                          71.0                          72.0   \n",
       "\n",
       "   home_player_4_overall_rating  ...  away_player_5_overall_rating  \\\n",
       "0                          67.0  ...                          66.0   \n",
       "1                          64.0  ...                          63.0   \n",
       "2                          66.0  ...                          64.0   \n",
       "3                          64.0  ...                          60.0   \n",
       "4                          73.0  ...                          60.0   \n",
       "\n",
       "   away_player_6_overall_rating  away_player_7_overall_rating  \\\n",
       "0                          69.0                          68.0   \n",
       "1                          66.0                          67.0   \n",
       "2                          62.0                          61.0   \n",
       "3                          63.0                          64.0   \n",
       "4                          61.0                          67.0   \n",
       "\n",
       "   away_player_8_overall_rating  away_player_9_overall_rating  \\\n",
       "0                          68.0                          72.0   \n",
       "1                          62.0                          65.0   \n",
       "2                          66.0                          65.0   \n",
       "3                          59.0                          61.0   \n",
       "4                          66.0                          61.0   \n",
       "\n",
       "   away_player_10_overall_rating  away_player_11_overall_rating  odds_home  \\\n",
       "0                           66.0                           63.0   0.379532   \n",
       "1                           62.0                           66.0   0.503166   \n",
       "2                           72.0                           70.0   0.530293   \n",
       "3                           64.0                           56.0   0.580711   \n",
       "4                           66.0                           63.0   0.695433   \n",
       "\n",
       "   odds_draw  odds_away  \n",
       "0   0.287801   0.332667  \n",
       "1   0.266833   0.230001  \n",
       "2   0.264442   0.205265  \n",
       "3   0.246617   0.172672  \n",
       "4   0.190179   0.114387  \n",
       "\n",
       "[5 rows x 31 columns]"
      ]
     },
     "execution_count": 3,
     "metadata": {},
     "output_type": "execute_result"
    }
   ],
   "source": [
    "# Upload data\n",
    "\n",
    "labels = pd.read_csv(\"labels.csv\", names=[\"match\", \"label\"])\n",
    "labels = labels.replace({'Defeat': 0}, regex=True)\n",
    "labels = labels.replace({'Draw': 1}, regex=True)\n",
    "labels = labels.replace({'Win': 2}, regex=True)\n",
    "labels = labels.drop('match', axis=1)\n",
    "\n",
    "\n",
    "features = pd.read_csv(\"features.csv\")\n",
    "features.rename( columns={'Unnamed: 0':'match'}, inplace=True )\n",
    "features = features.drop('match', axis=1)\n",
    "features.head(5)"
   ]
  },
  {
   "cell_type": "markdown",
   "metadata": {},
   "source": [
    "### Classification\n",
    "\n",
    "Use of DecisionTreeClassifier with and without k-fold cross-validation,  GridSearchCV for parameter tunning \n",
    "and use of Random Forest Classifiers\n"
   ]
  },
  {
   "cell_type": "code",
   "execution_count": 18,
   "metadata": {},
   "outputs": [],
   "source": [
    "\n",
    "from sklearn.ensemble import RandomForestClassifier\n",
    "from sklearn.model_selection import StratifiedKFold\n",
    "from sklearn.model_selection import GridSearchCV\n",
    "\n",
    "#all_inputs[:5]\n",
    "\n",
    "(training_inputs,\n",
    " testing_inputs,\n",
    " training_classes,\n",
    " testing_classes) = train_test_split(features, labels, test_size=0.25, random_state=1)\n",
    "\n"
   ]
  },
  {
   "cell_type": "markdown",
   "metadata": {},
   "source": [
    "### Decision Tree"
   ]
  },
  {
   "cell_type": "code",
   "execution_count": 7,
   "metadata": {},
   "outputs": [
    {
     "data": {
      "text/plain": [
       "0.3972602739726027"
      ]
     },
     "execution_count": 7,
     "metadata": {},
     "output_type": "execute_result"
    }
   ],
   "source": [
    "# decion tree classifier (not very good classifier)\n",
    "from sklearn.tree import DecisionTreeClassifier\n",
    "\n",
    "# Create the classifier\n",
    "decision_tree_classifier = DecisionTreeClassifier()\n",
    "\n",
    "# Train the classifier on the training set\n",
    "decision_tree_classifier.fit(training_inputs, training_classes)\n",
    "\n",
    "# Validate the classifier on the testing set using classification accuracy\n",
    "decision_tree_classifier.score(testing_inputs, testing_classes)"
   ]
  },
  {
   "cell_type": "code",
   "execution_count": 9,
   "metadata": {},
   "outputs": [
    {
     "data": {
      "text/plain": [
       "''"
      ]
     },
     "execution_count": 9,
     "metadata": {},
     "output_type": "execute_result"
    },
    {
     "data": {
      "image/png": "[encoded data removed]",
      "text/plain": [
       "<Figure size 432x288 with 1 Axes>"
      ]
     },
     "metadata": {
      "needs_background": "light"
     },
     "output_type": "display_data"
    }
   ],
   "source": [
    "## from this we can see that the problem is dependent on the subset we are\n",
    "# using => overfitting\n",
    "model_accuracies = []\n",
    "\n",
    "for repetition in range(1000):\n",
    "    (training_inputs,\n",
    "     testing_inputs,\n",
    "     training_classes,\n",
    "     testing_classes) = train_test_split(features, labels, test_size=0.25)\n",
    "    \n",
    "    decision_tree_classifier = DecisionTreeClassifier()\n",
    "    decision_tree_classifier.fit(training_inputs, training_classes)\n",
    "    classifier_accuracy = decision_tree_classifier.score(testing_inputs, testing_classes)\n",
    "    model_accuracies.append(classifier_accuracy)\n",
    "    \n",
    "plt.hist(model_accuracies)\n",
    ";"
   ]
  },
  {
   "cell_type": "code",
   "execution_count": 10,
   "metadata": {},
   "outputs": [
    {
     "data": {
      "image/png": "[encoded data removed]",
      "text/plain": [
       "<Figure size 1080x1080 with 1 Axes>"
      ]
     },
     "metadata": {
      "needs_background": "light"
     },
     "output_type": "display_data"
    }
   ],
   "source": [
    "## cross validation\n",
    "def plot_cv(cv, features, labels):\n",
    "    masks = []\n",
    "    for train, test in cv.split(features, labels):\n",
    "        mask = np.zeros(len(labels), dtype=bool)\n",
    "        mask[test] = 1\n",
    "        masks.append(mask)\n",
    "    \n",
    "    plt.figure(figsize=(15, 15))\n",
    "    plt.imshow(masks, interpolation='none', cmap='gray_r')\n",
    "    plt.ylabel('Fold')\n",
    "    plt.xlabel('Row #')\n",
    "\n",
    "plot_cv(StratifiedKFold(n_splits=10), features, labels)"
   ]
  },
  {
   "cell_type": "code",
   "execution_count": 11,
   "metadata": {},
   "outputs": [
    {
     "data": {
      "text/plain": [
       "''"
      ]
     },
     "execution_count": 11,
     "metadata": {},
     "output_type": "execute_result"
    },
    {
     "data": {
      "image/png": "[encoded data removed]",
      "text/plain": [
       "<Figure size 432x288 with 1 Axes>"
      ]
     },
     "metadata": {
      "needs_background": "light"
     },
     "output_type": "display_data"
    }
   ],
   "source": [
    "# Now we have a more consistent rating: however is not that good\n",
    "from sklearn.model_selection import cross_val_score\n",
    "decision_tree_classifier = DecisionTreeClassifier()\n",
    "\n",
    "# cross_val_score returns a list of the scores, which we can visualize\n",
    "# to get a reasonable estimate of our classifier's performance\n",
    "cv_scores = cross_val_score(decision_tree_classifier, features, labels, cv=10)\n",
    "plt.hist(cv_scores)\n",
    "plt.title('Average score: {}'.format(np.mean(cv_scores)))\n",
    ";"
   ]
  },
  {
   "cell_type": "code",
   "execution_count": 12,
   "metadata": {},
   "outputs": [
    {
     "data": {
      "text/plain": [
       "''"
      ]
     },
     "execution_count": 12,
     "metadata": {},
     "output_type": "execute_result"
    },
    {
     "data": {
      "image/png": "[encoded data removed]",
      "text/plain": [
       "<Figure size 432x288 with 1 Axes>"
      ]
     },
     "metadata": {
      "needs_background": "light"
     },
     "output_type": "display_data"
    }
   ],
   "source": [
    "decision_tree_classifier = DecisionTreeClassifier(max_depth=1)\n",
    "\n",
    "cv_scores = cross_val_score(decision_tree_classifier, features, labels, cv=10)\n",
    "plt.hist(cv_scores)\n",
    "plt.title('Average score: {}'.format(np.mean(cv_scores)))\n",
    ";"
   ]
  },
  {
   "cell_type": "code",
   "execution_count": 13,
   "metadata": {},
   "outputs": [
    {
     "name": "stdout",
     "output_type": "stream",
     "text": [
      "Best score: 0.5062809288161401\n",
      "Best parameters: {'max_depth': 4, 'max_features': 3}\n"
     ]
    }
   ],
   "source": [
    "from sklearn.model_selection import GridSearchCV\n",
    "\n",
    "decision_tree_classifier = DecisionTreeClassifier()\n",
    "\n",
    "parameter_grid = {'max_depth': [1, 2, 3, 4, 5],\n",
    "                  'max_features': [1, 2, 3, 4]}\n",
    "\n",
    "cross_validation = StratifiedKFold(n_splits=10)\n",
    "\n",
    "grid_search = GridSearchCV(decision_tree_classifier,\n",
    "                           param_grid=parameter_grid,\n",
    "                           cv=cross_validation)\n",
    "\n",
    "grid_search.fit(features, labels)\n",
    "print('Best score: {}'.format(grid_search.best_score_))\n",
    "print('Best parameters: {}'.format(grid_search.best_params_))"
   ]
  },
  {
   "cell_type": "code",
   "execution_count": 14,
   "metadata": {},
   "outputs": [
    {
     "data": {
      "text/plain": [
       "''"
      ]
     },
     "execution_count": 14,
     "metadata": {},
     "output_type": "execute_result"
    },
    {
     "data": {
      "image/png": "[encoded data removed]",
      "text/plain": [
       "<Figure size 432x288 with 2 Axes>"
      ]
     },
     "metadata": {
      "needs_background": "light"
     },
     "output_type": "display_data"
    }
   ],
   "source": [
    "grid_visualization = grid_search.cv_results_['mean_test_score']\n",
    "grid_visualization.shape = (5, 4)\n",
    "sns.heatmap(grid_visualization, cmap='Blues', annot=True)\n",
    "plt.xticks(np.arange(4) + 0.5, grid_search.param_grid['max_features'])\n",
    "plt.yticks(np.arange(5) + 0.5, grid_search.param_grid['max_depth'])\n",
    "plt.xlabel('max_features')\n",
    "plt.ylabel('max_depth')\n",
    ";"
   ]
  },
  {
   "cell_type": "code",
   "execution_count": 15,
   "metadata": {},
   "outputs": [
    {
     "name": "stdout",
     "output_type": "stream",
     "text": [
      "Best score: 0.5024743052912067\n",
      "Best parameters: {'criterion': 'gini', 'max_depth': 4, 'max_features': 3, 'splitter': 'best'}\n"
     ]
    }
   ],
   "source": [
    "\n",
    "decision_tree_classifier = DecisionTreeClassifier()\n",
    "\n",
    "parameter_grid = {'criterion': ['gini', 'entropy'],\n",
    "                  'splitter': ['best', 'random'],\n",
    "                  'max_depth': [1, 2, 3, 4, 5],\n",
    "                  'max_features': [1, 2, 3, 4]}\n",
    "\n",
    "cross_validation = StratifiedKFold(n_splits=10)\n",
    "\n",
    "grid_search = GridSearchCV(decision_tree_classifier,\n",
    "                           param_grid=parameter_grid,\n",
    "                           cv=cross_validation)\n",
    "\n",
    "grid_search.fit(features, labels)\n",
    "print('Best score: {}'.format(grid_search.best_score_))\n",
    "print('Best parameters: {}'.format(grid_search.best_params_))"
   ]
  },
  {
   "cell_type": "code",
   "execution_count": 16,
   "metadata": {},
   "outputs": [
    {
     "data": {
      "text/plain": [
       "DecisionTreeClassifier(class_weight=None, criterion='gini', max_depth=4,\n",
       "                       max_features=3, max_leaf_nodes=None,\n",
       "                       min_impurity_decrease=0.0, min_impurity_split=None,\n",
       "                       min_samples_leaf=1, min_samples_split=2,\n",
       "                       min_weight_fraction_leaf=0.0, presort=False,\n",
       "                       random_state=None, splitter='best')"
      ]
     },
     "execution_count": 16,
     "metadata": {},
     "output_type": "execute_result"
    }
   ],
   "source": [
    "decision_tree_classifier = grid_search.best_estimator_\n",
    "decision_tree_classifier"
   ]
  },
  {
   "cell_type": "markdown",
   "metadata": {},
   "source": []
  },
  {
   "cell_type": "code",
   "execution_count": 17,
   "metadata": {},
   "outputs": [
    {
     "name": "stdout",
     "output_type": "stream",
     "text": [
      "Best score: 0.5059002664636467\n",
      "Best parameters: {'criterion': 'gini', 'max_features': 1, 'n_estimators': 100}\n"
     ]
    },
    {
     "data": {
      "text/plain": [
       "RandomForestClassifier(bootstrap=True, class_weight=None, criterion='gini',\n",
       "                       max_depth=None, max_features=1, max_leaf_nodes=None,\n",
       "                       min_impurity_decrease=0.0, min_impurity_split=None,\n",
       "                       min_samples_leaf=1, min_samples_split=2,\n",
       "                       min_weight_fraction_leaf=0.0, n_estimators=100,\n",
       "                       n_jobs=None, oob_score=False, random_state=None,\n",
       "                       verbose=0, warm_start=False)"
      ]
     },
     "execution_count": 17,
     "metadata": {},
     "output_type": "execute_result"
    }
   ],
   "source": [
    "from sklearn.ensemble import RandomForestClassifier\n",
    "\n",
    "random_forest_classifier = RandomForestClassifier()\n",
    "\n",
    "parameter_grid = {'n_estimators': [10, 25, 50, 100],\n",
    "                  'criterion': ['gini', 'entropy'],\n",
    "                  'max_features': [1, 2, 3, 4]}\n",
    "\n",
    "cross_validation = StratifiedKFold(n_splits=10)\n",
    "\n",
    "grid_search = GridSearchCV(random_forest_classifier,\n",
    "                           param_grid=parameter_grid,\n",
    "                           cv=cross_validation)\n",
    "\n",
    "grid_search.fit(features, labels)\n",
    "print('Best score: {}'.format(grid_search.best_score_))\n",
    "print('Best parameters: {}'.format(grid_search.best_params_))\n",
    "\n",
    "grid_search.best_estimator_"
   ]
  },
  {
   "cell_type": "code",
   "execution_count": 19,
   "metadata": {
    "scrolled": true
   },
   "outputs": [
    {
     "data": {
      "text/plain": [
       "''"
      ]
     },
     "execution_count": 19,
     "metadata": {},
     "output_type": "execute_result"
    },
    {
     "data": {
      "image/png": "[encoded data removed]",
      "text/plain": [
       "<Figure size 432x288 with 1 Axes>"
      ]
     },
     "metadata": {
      "needs_background": "light"
     },
     "output_type": "display_data"
    }
   ],
   "source": [
    "random_forest_classifier = grid_search.best_estimator_\n",
    "\n",
    "rf_df = pd.DataFrame({'accuracy': cross_val_score(random_forest_classifier, features, labels, cv=10),\n",
    "                       'classifier': ['Random Forest'] * 10})\n",
    "dt_df = pd.DataFrame({'accuracy': cross_val_score(decision_tree_classifier, features, labels, cv=10),\n",
    "                      'classifier': ['Decision Tree'] * 10})\n",
    "both_df = rf_df.append(dt_df)\n",
    "\n",
    "sns.boxplot(x='classifier', y='accuracy', data=both_df)\n",
    "sns.stripplot(x='classifier', y='accuracy', data=both_df, jitter=True, color='black')\n",
    ";"
   ]
  },
  {
   "cell_type": "markdown",
   "metadata": {},
   "source": [
    "<h3>KNN Algorithm</h3>\n",
    "<p> K-nearest neighbors with an Euclidean distance measure is sensitive to magnitudes and hence should be scaled for all features to weigh in equally.</p>\n",
    "<p>The following one is with using 20% of the entries for test and the rest to train</p>"
   ]
  },
  {
   "cell_type": "code",
   "execution_count": 22,
   "metadata": {},
   "outputs": [
    {
     "name": "stdout",
     "output_type": "stream",
     "text": [
      "[[ 82  31  43]\n",
      " [ 49  38  41]\n",
      " [ 70  52 120]]\n",
      "              precision    recall  f1-score   support\n",
      "\n",
      "           0       0.41      0.53      0.46       156\n",
      "           1       0.31      0.30      0.31       128\n",
      "           2       0.59      0.50      0.54       242\n",
      "\n",
      "    accuracy                           0.46       526\n",
      "   macro avg       0.44      0.44      0.43       526\n",
      "weighted avg       0.47      0.46      0.46       526\n",
      "\n"
     ]
    }
   ],
   "source": [
    "from sklearn.preprocessing import StandardScaler\n",
    "\n",
    "X1_train, X1_test, Y1_train, Y1_test = train_test_split(features, labels, test_size=0.20)\n",
    "\n",
    "scaler = StandardScaler()\n",
    "scaler.fit(X1_train)\n",
    "\n",
    "X1_train = scaler.transform(X1_train)\n",
    "X1_test = scaler.transform(X1_test)\n",
    "\n",
    "classifier = KNeighborsClassifier(n_neighbors=5)\n",
    "classifier.fit(X1_train, Y1_train)\n",
    "y1_pred = classifier.predict(X1_test)\n",
    "\n",
    "y1_pred = classifier.predict(X1_test)\n",
    "\n",
    "print(confusion_matrix(Y1_test, y1_pred))\n",
    "print(classification_report(Y1_test, y1_pred))"
   ]
  },
  {
   "cell_type": "markdown",
   "metadata": {},
   "source": [
    "<h5>Using k-fold cross validation:</h5>"
   ]
  },
  {
   "cell_type": "code",
   "execution_count": 39,
   "metadata": {},
   "outputs": [
    {
     "name": "stdout",
     "output_type": "stream",
     "text": [
      "[0.43155894 0.42585551 0.46666667 0.41333333 0.43809524]\n",
      "cv_scores mean:0.4351019373528879\n"
     ]
    },
    {
     "data": {
      "text/plain": [
       "0.4800144848814051"
      ]
     },
     "execution_count": 39,
     "metadata": {},
     "output_type": "execute_result"
    }
   ],
   "source": [
    "from sklearn.model_selection import cross_val_score\n",
    "from sklearn.model_selection import GridSearchCV\n",
    "\n",
    "knn_cv = KNeighborsClassifier(n_neighbors=5)\n",
    "cv_scores = cross_val_score(knn_cv, features, labels, cv=5)\n",
    "print(cv_scores)\n",
    "print('cv_scores mean:{}'.format(np.mean(cv_scores)))\n",
    "knn2 = KNeighborsClassifier()\n",
    "param_grid = {'n_neighbors': np.arange(1, 25)}\n",
    "knn_gscv = GridSearchCV(knn2, param_grid, cv=5)\n",
    "knn_gscv.fit(features, labels)\n",
    "#knn_gscv.best_params_\n",
    "knn_gscv.best_score_"
   ]
  },
  {
   "cell_type": "markdown",
   "metadata": {},
   "source": [
    "<p>Now we should try to find the best parameters</p>"
   ]
  },
  {
   "cell_type": "code",
   "execution_count": 53,
   "metadata": {},
   "outputs": [
    {
     "name": "stdout",
     "output_type": "stream",
     "text": [
      "Fitting 15 folds for each of 70 candidates, totalling 1050 fits\n"
     ]
    },
    {
     "name": "stderr",
     "output_type": "stream",
     "text": [
      "[Parallel(n_jobs=1)]: Using backend SequentialBackend with 1 concurrent workers.\n",
      "[Parallel(n_jobs=1)]: Done 1050 out of 1050 | elapsed: 26.7min finished\n"
     ]
    },
    {
     "data": {
      "text/plain": [
       "0.45451071277687244"
      ]
     },
     "execution_count": 53,
     "metadata": {},
     "output_type": "execute_result"
    }
   ],
   "source": [
    "from sklearn.model_selection import GridSearchCV\n",
    "from sklearn.model_selection import RepeatedStratifiedKFold\n",
    "\n",
    "cv_method = RepeatedStratifiedKFold(n_splits=5, \n",
    "                                    n_repeats=3, \n",
    "                                    random_state=999)\n",
    "\n",
    "\n",
    "params_KNN = {'n_neighbors': [1, 2, 3, 4, 5, 6, 7], \n",
    "              'weights': ['uniform', 'distance'],\n",
    "              'p': [1, 2, 5, 8 , 16]}\n",
    "\n",
    "grid = GridSearchCV(estimator=KNeighborsClassifier(), \n",
    "                      param_grid=params_KNN, \n",
    "                      cv=cv_method,\n",
    "                      verbose=1,\n",
    "                      scoring='accuracy', \n",
    "                      return_train_score=True)\n",
    "\n",
    "grid.fit(features, labels)\n",
    "grid.best_score_"
   ]
  },
  {
   "cell_type": "code",
   "execution_count": 46,
   "metadata": {},
   "outputs": [
    {
     "data": {
      "text/plain": [
       "array([0.41098871, 0.41200217, 0.39829682, 0.38980723, 0.39017828,\n",
       "       0.36987796, 0.43306247, 0.43522071, 0.42380301, 0.43039628,\n",
       "       0.43674163, 0.42443599, 0.43535059, 0.43547034, 0.42430998,\n",
       "       0.44029742, 0.44067838, 0.43382365, 0.44664639, 0.44828849,\n",
       "       0.44321589])"
      ]
     },
     "execution_count": 46,
     "metadata": {},
     "output_type": "execute_result"
    }
   ],
   "source": [
    "grid.cv_results_['mean_test_score']"
   ]
  },
  {
   "cell_type": "code",
   "execution_count": 51,
   "metadata": {},
   "outputs": [
    {
     "data": {
      "text/html": [
       "<div>\n",
       "<style scoped>\n",
       "    .dataframe tbody tr th:only-of-type {\n",
       "        vertical-align: middle;\n",
       "    }\n",
       "\n",
       "    .dataframe tbody tr th {\n",
       "        vertical-align: top;\n",
       "    }\n",
       "\n",
       "    .dataframe thead th {\n",
       "        text-align: right;\n",
       "    }\n",
       "</style>\n",
       "<table border=\"1\" class=\"dataframe\">\n",
       "  <thead>\n",
       "    <tr style=\"text-align: right;\">\n",
       "      <th></th>\n",
       "      <th>n_neighbors</th>\n",
       "      <th>p</th>\n",
       "      <th>test_score</th>\n",
       "      <th>metric</th>\n",
       "    </tr>\n",
       "  </thead>\n",
       "  <tbody>\n",
       "    <tr>\n",
       "      <th>0</th>\n",
       "      <td>1</td>\n",
       "      <td>1</td>\n",
       "      <td>0.410989</td>\n",
       "      <td>Manhattan</td>\n",
       "    </tr>\n",
       "    <tr>\n",
       "      <th>1</th>\n",
       "      <td>1</td>\n",
       "      <td>2</td>\n",
       "      <td>0.412002</td>\n",
       "      <td>Euclidean</td>\n",
       "    </tr>\n",
       "    <tr>\n",
       "      <th>2</th>\n",
       "      <td>1</td>\n",
       "      <td>5</td>\n",
       "      <td>0.398297</td>\n",
       "      <td>Minkowski</td>\n",
       "    </tr>\n",
       "    <tr>\n",
       "      <th>3</th>\n",
       "      <td>2</td>\n",
       "      <td>1</td>\n",
       "      <td>0.389807</td>\n",
       "      <td>Manhattan</td>\n",
       "    </tr>\n",
       "    <tr>\n",
       "      <th>4</th>\n",
       "      <td>2</td>\n",
       "      <td>2</td>\n",
       "      <td>0.390178</td>\n",
       "      <td>Euclidean</td>\n",
       "    </tr>\n",
       "    <tr>\n",
       "      <th>5</th>\n",
       "      <td>2</td>\n",
       "      <td>5</td>\n",
       "      <td>0.369878</td>\n",
       "      <td>Minkowski</td>\n",
       "    </tr>\n",
       "    <tr>\n",
       "      <th>6</th>\n",
       "      <td>3</td>\n",
       "      <td>1</td>\n",
       "      <td>0.433062</td>\n",
       "      <td>Manhattan</td>\n",
       "    </tr>\n",
       "    <tr>\n",
       "      <th>7</th>\n",
       "      <td>3</td>\n",
       "      <td>2</td>\n",
       "      <td>0.435221</td>\n",
       "      <td>Euclidean</td>\n",
       "    </tr>\n",
       "    <tr>\n",
       "      <th>8</th>\n",
       "      <td>3</td>\n",
       "      <td>5</td>\n",
       "      <td>0.423803</td>\n",
       "      <td>Minkowski</td>\n",
       "    </tr>\n",
       "    <tr>\n",
       "      <th>9</th>\n",
       "      <td>4</td>\n",
       "      <td>1</td>\n",
       "      <td>0.430396</td>\n",
       "      <td>Manhattan</td>\n",
       "    </tr>\n",
       "    <tr>\n",
       "      <th>10</th>\n",
       "      <td>4</td>\n",
       "      <td>2</td>\n",
       "      <td>0.436742</td>\n",
       "      <td>Euclidean</td>\n",
       "    </tr>\n",
       "    <tr>\n",
       "      <th>11</th>\n",
       "      <td>4</td>\n",
       "      <td>5</td>\n",
       "      <td>0.424436</td>\n",
       "      <td>Minkowski</td>\n",
       "    </tr>\n",
       "    <tr>\n",
       "      <th>12</th>\n",
       "      <td>5</td>\n",
       "      <td>1</td>\n",
       "      <td>0.435351</td>\n",
       "      <td>Manhattan</td>\n",
       "    </tr>\n",
       "    <tr>\n",
       "      <th>13</th>\n",
       "      <td>5</td>\n",
       "      <td>2</td>\n",
       "      <td>0.435470</td>\n",
       "      <td>Euclidean</td>\n",
       "    </tr>\n",
       "    <tr>\n",
       "      <th>14</th>\n",
       "      <td>5</td>\n",
       "      <td>5</td>\n",
       "      <td>0.424310</td>\n",
       "      <td>Minkowski</td>\n",
       "    </tr>\n",
       "    <tr>\n",
       "      <th>15</th>\n",
       "      <td>6</td>\n",
       "      <td>1</td>\n",
       "      <td>0.440297</td>\n",
       "      <td>Manhattan</td>\n",
       "    </tr>\n",
       "    <tr>\n",
       "      <th>16</th>\n",
       "      <td>6</td>\n",
       "      <td>2</td>\n",
       "      <td>0.440678</td>\n",
       "      <td>Euclidean</td>\n",
       "    </tr>\n",
       "    <tr>\n",
       "      <th>17</th>\n",
       "      <td>6</td>\n",
       "      <td>5</td>\n",
       "      <td>0.433824</td>\n",
       "      <td>Minkowski</td>\n",
       "    </tr>\n",
       "    <tr>\n",
       "      <th>18</th>\n",
       "      <td>7</td>\n",
       "      <td>1</td>\n",
       "      <td>0.446646</td>\n",
       "      <td>Manhattan</td>\n",
       "    </tr>\n",
       "    <tr>\n",
       "      <th>19</th>\n",
       "      <td>7</td>\n",
       "      <td>2</td>\n",
       "      <td>0.448288</td>\n",
       "      <td>Euclidean</td>\n",
       "    </tr>\n",
       "    <tr>\n",
       "      <th>20</th>\n",
       "      <td>7</td>\n",
       "      <td>5</td>\n",
       "      <td>0.443216</td>\n",
       "      <td>Minkowski</td>\n",
       "    </tr>\n",
       "  </tbody>\n",
       "</table>\n",
       "</div>"
      ],
      "text/plain": [
       "    n_neighbors  p  test_score     metric\n",
       "0             1  1    0.410989  Manhattan\n",
       "1             1  2    0.412002  Euclidean\n",
       "2             1  5    0.398297  Minkowski\n",
       "3             2  1    0.389807  Manhattan\n",
       "4             2  2    0.390178  Euclidean\n",
       "5             2  5    0.369878  Minkowski\n",
       "6             3  1    0.433062  Manhattan\n",
       "7             3  2    0.435221  Euclidean\n",
       "8             3  5    0.423803  Minkowski\n",
       "9             4  1    0.430396  Manhattan\n",
       "10            4  2    0.436742  Euclidean\n",
       "11            4  5    0.424436  Minkowski\n",
       "12            5  1    0.435351  Manhattan\n",
       "13            5  2    0.435470  Euclidean\n",
       "14            5  5    0.424310  Minkowski\n",
       "15            6  1    0.440297  Manhattan\n",
       "16            6  2    0.440678  Euclidean\n",
       "17            6  5    0.433824  Minkowski\n",
       "18            7  1    0.446646  Manhattan\n",
       "19            7  2    0.448288  Euclidean\n",
       "20            7  5    0.443216  Minkowski"
      ]
     },
     "execution_count": 51,
     "metadata": {},
     "output_type": "execute_result"
    }
   ],
   "source": [
    "results_KNN = pd.DataFrame(grid.cv_results_['params'])\n",
    "results_KNN['test_score'] = grid.cv_results_['mean_test_score']\n",
    "results_KNN['metric'] = results_KNN['p'].replace([1,2,5], [\"Manhattan\", \"Euclidean\", \"Minkowski\"])\n",
    "results_KNN"
   ]
  },
  {
   "cell_type": "markdown",
   "metadata": {},
   "source": [
    "<h3>We should test different K values</h3>"
   ]
  },
  {
   "cell_type": "code",
   "execution_count": 24,
   "metadata": {},
   "outputs": [
    {
     "data": {
      "text/plain": [
       "\"\\nerror_rate = []\\nfor i in range(1,40):\\n\\n    knn = KNeighborsClassifier(n_neighbors=i)\\n    knn.fit(X_train,Y_train)\\n    pred_i = knn.predict(X_test)\\n    error_rate.append(np.mean(pred_i != Y_test))\\n    \\nplt.figure(figsize=(12, 6))\\nplt.plot(range(1, 40), error_rate, color='red', linestyle='dashed', marker='o',\\n         markerfacecolor='blue', markersize=10)\\nplt.title('Error Rate K Value')\\nplt.xlabel('K Value')\\nplt.ylabel('Mean Error')\""
      ]
     },
     "execution_count": 24,
     "metadata": {},
     "output_type": "execute_result"
    }
   ],
   "source": [
    "'''\n",
    "error_rate = []\n",
    "for i in range(1,40):\n",
    "\n",
    "    knn = KNeighborsClassifier(n_neighbors=i)\n",
    "    knn.fit(X_train,Y_train)\n",
    "    pred_i = knn.predict(X_test)\n",
    "    error_rate.append(np.mean(pred_i != Y_test))\n",
    "    \n",
    "plt.figure(figsize=(12, 6))\n",
    "plt.plot(range(1, 40), error_rate, color='red', linestyle='dashed', marker='o',\n",
    "         markerfacecolor='blue', markersize=10)\n",
    "plt.title('Error Rate K Value')\n",
    "plt.xlabel('K Value')\n",
    "plt.ylabel('Mean Error')'''\n"
   ]
  },
  {
   "cell_type": "markdown",
   "metadata": {},
   "source": [
    "# Support Vector Machines"
   ]
  },
  {
   "cell_type": "code",
   "execution_count": 36,
   "metadata": {},
   "outputs": [],
   "source": [
    "from sklearn import svm\n",
    "\n",
    "X_train, X_test, y_train, y_test = train_test_split(features, labels, test_size=0.20)\n",
    "\n",
    "\n",
    "#Create a svm Classifier\n",
    "clf = svm.SVC(kernel='linear') # Linear Kernel\n",
    "\n",
    "#Train the model using the training sets\n",
    "clf.fit(X_train, y_train)\n",
    "\n",
    "#Predict the response for test dataset\n",
    "y_pred = clf.predict(X_test)"
   ]
  },
  {
   "cell_type": "code",
   "execution_count": 42,
   "metadata": {},
   "outputs": [
    {
     "name": "stdout",
     "output_type": "stream",
     "text": [
      "Accuracy: 0.5019011406844106\n",
      "Precision: 0.5019011406844106\n",
      "Recall: 0.5019011406844106\n"
     ]
    }
   ],
   "source": [
    "#Testing\n",
    "print(\"Accuracy:\",metrics.accuracy_score(y_test, y_pred))\n",
    "print(\"Precision:\",metrics.precision_score(y_test, y_pred, average='micro'))\n",
    "print(\"Recall:\",metrics.recall_score(y_test, y_pred, average='micro'))"
   ]
  },
  {
   "cell_type": "markdown",
   "metadata": {},
   "source": [
    "# Neural Networks\n",
    "\n",
    "### Building a Custom Model"
   ]
  },
  {
   "cell_type": "code",
   "execution_count": 26,
   "metadata": {},
   "outputs": [
    {
     "name": "stderr",
     "output_type": "stream",
     "text": [
      "WARNING: Logging before flag parsing goes to stderr.\n",
      "W0512 17:53:02.089933 16296 deprecation.py:506] From C:\\Users\\35192\\AppData\\Local\\Programs\\Python\\Python37\\lib\\site-packages\\tensorflow\\python\\ops\\init_ops.py:1251: calling VarianceScaling.__init__ (from tensorflow.python.ops.init_ops) with dtype is deprecated and will be removed in a future version.\n",
      "Instructions for updating:\n",
      "Call initializer instance with the dtype argument instead of passing it to the constructor\n"
     ]
    },
    {
     "name": "stdout",
     "output_type": "stream",
     "text": [
      "Model: \"sequential\"\n",
      "_________________________________________________________________\n",
      "Layer (type)                 Output Shape              Param #   \n",
      "=================================================================\n",
      "dense (Dense)                (None, 8)                 256       \n",
      "_________________________________________________________________\n",
      "dense_1 (Dense)              (None, 16)                144       \n",
      "_________________________________________________________________\n",
      "dropout (Dropout)            (None, 16)                0         \n",
      "_________________________________________________________________\n",
      "dense_2 (Dense)              (None, 32)                544       \n",
      "_________________________________________________________________\n",
      "dropout_1 (Dropout)          (None, 32)                0         \n",
      "_________________________________________________________________\n",
      "dense_3 (Dense)              (None, 64)                2112      \n",
      "_________________________________________________________________\n",
      "dropout_2 (Dropout)          (None, 64)                0         \n",
      "_________________________________________________________________\n",
      "dense_4 (Dense)              (None, 128)               8320      \n",
      "_________________________________________________________________\n",
      "dropout_3 (Dropout)          (None, 128)               0         \n",
      "_________________________________________________________________\n",
      "dense_5 (Dense)              (None, 256)               33024     \n",
      "_________________________________________________________________\n",
      "dropout_4 (Dropout)          (None, 256)               0         \n",
      "_________________________________________________________________\n",
      "dense_6 (Dense)              (None, 128)               32896     \n",
      "_________________________________________________________________\n",
      "dropout_5 (Dropout)          (None, 128)               0         \n",
      "_________________________________________________________________\n",
      "dense_7 (Dense)              (None, 3)                 387       \n",
      "=================================================================\n",
      "Total params: 77,683\n",
      "Trainable params: 77,683\n",
      "Non-trainable params: 0\n",
      "_________________________________________________________________\n"
     ]
    }
   ],
   "source": [
    "model = keras.Sequential(\n",
    "    [\n",
    "        keras.layers.Dense(\n",
    "            8, activation=\"relu\", input_shape=(features.shape[-1],)\n",
    "        ),\n",
    "        keras.layers.Dense(16, activation=\"relu\"),\n",
    "        keras.layers.Dropout(0.2),\n",
    "        keras.layers.Dense(32, activation=\"relu\"),\n",
    "        keras.layers.Dropout(0.2),\n",
    "        keras.layers.Dense(64, activation=\"relu\"),\n",
    "        keras.layers.Dropout(0.3),\n",
    "        keras.layers.Dense(128, activation=\"relu\"),\n",
    "        keras.layers.Dropout(0.3),\n",
    "        keras.layers.Dense(256, activation=\"relu\"),\n",
    "        keras.layers.Dropout(0.3),\n",
    "        keras.layers.Dense(128, activation=\"relu\"),\n",
    "        keras.layers.Dropout(0.3),\n",
    "        keras.layers.Dense(3, activation=\"softmax\"),\n",
    "    ]\n",
    ")\n",
    "model.summary()"
   ]
  },
  {
   "cell_type": "markdown",
   "metadata": {},
   "source": [
    "### Model Training"
   ]
  },
  {
   "cell_type": "code",
   "execution_count": 27,
   "metadata": {},
   "outputs": [
    {
     "name": "stdout",
     "output_type": "stream",
     "text": [
      "(2101, 31)\n",
      "(2101, 3)\n",
      "Train on 2101 samples, validate on 526 samples\n",
      "Epoch 1/30\n",
      "2101/2101 [==============================] - 1s 296us/sample - loss: 1.1028 - acc: 0.3636 - val_loss: 1.0693 - val_acc: 0.4753\n",
      "Epoch 2/30\n",
      "2101/2101 [==============================] - 0s 29us/sample - loss: 1.0703 - acc: 0.4422 - val_loss: 1.0426 - val_acc: 0.4639\n",
      "Epoch 3/30\n",
      "2101/2101 [==============================] - 0s 24us/sample - loss: 1.0614 - acc: 0.4584 - val_loss: 1.0324 - val_acc: 0.4639\n",
      "Epoch 4/30\n",
      "2101/2101 [==============================] - 0s 25us/sample - loss: 1.0471 - acc: 0.4731 - val_loss: 1.0240 - val_acc: 0.4677\n",
      "Epoch 5/30\n",
      "2101/2101 [==============================] - 0s 24us/sample - loss: 1.0377 - acc: 0.4883 - val_loss: 1.0161 - val_acc: 0.4829\n",
      "Epoch 6/30\n",
      "2101/2101 [==============================] - 0s 24us/sample - loss: 1.0402 - acc: 0.4769 - val_loss: 1.0189 - val_acc: 0.4905\n",
      "Epoch 7/30\n",
      "2101/2101 [==============================] - 0s 23us/sample - loss: 1.0281 - acc: 0.4855 - val_loss: 1.0165 - val_acc: 0.4848\n",
      "Epoch 8/30\n",
      "2101/2101 [==============================] - 0s 21us/sample - loss: 1.0350 - acc: 0.4860 - val_loss: 1.0167 - val_acc: 0.4981\n",
      "Epoch 9/30\n",
      "2101/2101 [==============================] - 0s 23us/sample - loss: 1.0325 - acc: 0.4960 - val_loss: 1.0132 - val_acc: 0.5019\n",
      "Epoch 10/30\n",
      "2101/2101 [==============================] - 0s 26us/sample - loss: 1.0283 - acc: 0.4879 - val_loss: 1.0148 - val_acc: 0.4981\n",
      "Epoch 11/30\n",
      "2101/2101 [==============================] - ETA: 0s - loss: 1.0110 - acc: 0.501 - 0s 21us/sample - loss: 1.0272 - acc: 0.4869 - val_loss: 1.0140 - val_acc: 0.5038\n",
      "Epoch 12/30\n",
      "2101/2101 [==============================] - 0s 26us/sample - loss: 1.0195 - acc: 0.4964 - val_loss: 1.0119 - val_acc: 0.5000\n",
      "Epoch 13/30\n",
      "2101/2101 [==============================] - 0s 25us/sample - loss: 1.0260 - acc: 0.5040 - val_loss: 1.0090 - val_acc: 0.4924\n",
      "Epoch 14/30\n",
      "2101/2101 [==============================] - 0s 24us/sample - loss: 1.0281 - acc: 0.4898 - val_loss: 1.0091 - val_acc: 0.4943\n",
      "Epoch 15/30\n",
      "2101/2101 [==============================] - 0s 25us/sample - loss: 1.0161 - acc: 0.4912 - val_loss: 1.0131 - val_acc: 0.4943\n",
      "Epoch 16/30\n",
      "2101/2101 [==============================] - 0s 27us/sample - loss: 1.0289 - acc: 0.4960 - val_loss: 1.0118 - val_acc: 0.4905\n",
      "Epoch 17/30\n",
      "2101/2101 [==============================] - 0s 26us/sample - loss: 1.0254 - acc: 0.4964 - val_loss: 1.0164 - val_acc: 0.4943\n",
      "Epoch 18/30\n",
      "2101/2101 [==============================] - 0s 21us/sample - loss: 1.0162 - acc: 0.5093 - val_loss: 1.0162 - val_acc: 0.4962\n",
      "Epoch 19/30\n",
      "2101/2101 [==============================] - 0s 24us/sample - loss: 1.0247 - acc: 0.4912 - val_loss: 1.0120 - val_acc: 0.4867\n",
      "Epoch 20/30\n",
      "2101/2101 [==============================] - 0s 28us/sample - loss: 1.0143 - acc: 0.5036 - val_loss: 1.0134 - val_acc: 0.4943\n",
      "Epoch 21/30\n",
      "2101/2101 [==============================] - 0s 23us/sample - loss: 1.0231 - acc: 0.4926 - val_loss: 1.0110 - val_acc: 0.4867\n",
      "Epoch 22/30\n",
      "2101/2101 [==============================] - 0s 26us/sample - loss: 1.0182 - acc: 0.5031 - val_loss: 1.0110 - val_acc: 0.4886\n",
      "Epoch 23/30\n",
      "2101/2101 [==============================] - 0s 23us/sample - loss: 1.0158 - acc: 0.5045 - val_loss: 1.0115 - val_acc: 0.4924\n",
      "Epoch 24/30\n",
      "2101/2101 [==============================] - 0s 25us/sample - loss: 1.0128 - acc: 0.5045 - val_loss: 1.0093 - val_acc: 0.4943\n",
      "Epoch 25/30\n",
      "2101/2101 [==============================] - 0s 22us/sample - loss: 1.0118 - acc: 0.4993 - val_loss: 1.0072 - val_acc: 0.4943\n",
      "Epoch 26/30\n",
      "2101/2101 [==============================] - 0s 22us/sample - loss: 1.0185 - acc: 0.4983 - val_loss: 1.0153 - val_acc: 0.4867\n",
      "Epoch 27/30\n",
      "2101/2101 [==============================] - 0s 23us/sample - loss: 1.0197 - acc: 0.4983 - val_loss: 1.0066 - val_acc: 0.4962\n",
      "Epoch 28/30\n",
      "2101/2101 [==============================] - 0s 28us/sample - loss: 1.0045 - acc: 0.5088 - val_loss: 1.0057 - val_acc: 0.4981\n",
      "Epoch 29/30\n",
      "2101/2101 [==============================] - 0s 23us/sample - loss: 1.0040 - acc: 0.4993 - val_loss: 1.0049 - val_acc: 0.4981\n",
      "Epoch 30/30\n",
      "2101/2101 [==============================] - 0s 22us/sample - loss: 1.0085 - acc: 0.5121 - val_loss: 1.0114 - val_acc: 0.4905\n"
     ]
    }
   ],
   "source": [
    "fold = \"1\"\n",
    "\n",
    "train_features = pd.read_csv(os.path.join('folds' + os.sep + 'train', fold + '.csv')).drop('Unnamed: 0', axis=1)\n",
    "train_targets = to_categorical(pd.read_csv(os.path.join('targets' + os.sep + 'train', fold + '.csv')).drop('Unnamed: 0', axis=1))\n",
    "val_features = pd.read_csv(os.path.join('folds' + os.sep + 'validate', fold + '.csv')).drop('Unnamed: 0', axis=1)\n",
    "val_targets = to_categorical(pd.read_csv(os.path.join('targets' + os.sep + 'validate', fold + '.csv')).drop('Unnamed: 0', axis=1))\n",
    "\n",
    "mean = np.mean(train_features, axis=0)\n",
    "train_features -= mean\n",
    "val_features -= mean\n",
    "std = np.std(train_features, axis=0)\n",
    "train_features /= std\n",
    "val_features /= std\n",
    "\n",
    "from tensorflow.keras.optimizers import RMSprop\n",
    "opt = RMSprop(\n",
    "    lr=0.001\n",
    ")\n",
    "\n",
    "model.compile(\n",
    "   loss='categorical_crossentropy', optimizer=opt, metrics=['acc']\n",
    ")\n",
    "\n",
    "mean = np.mean(train_features, axis=0)\n",
    "train_features -= mean\n",
    "val_features -= mean\n",
    "std = np.std(train_features, axis=0)\n",
    "train_features /= std\n",
    "val_features /= std\n",
    "\n",
    "print(train_features.shape)\n",
    "print(train_targets.shape)\n",
    "\n",
    "history = model.fit(\n",
    "    train_features,\n",
    "    train_targets,\n",
    "    batch_size=1024,\n",
    "    epochs=30,\n",
    "    validation_data=(val_features, val_targets),\n",
    ")\n",
    "\n",
    "# Save weights\n",
    "model.save_weights(os.path.join('weights' + os.sep + 'custom', fold + '.h5'))"
   ]
  },
  {
   "cell_type": "code",
   "execution_count": 30,
   "metadata": {},
   "outputs": [
    {
     "data": {
      "image/png": "[encoded data removed]",
      "text/plain": [
       "<Figure size 1080x504 with 2 Axes>"
      ]
     },
     "metadata": {
      "needs_background": "light"
     },
     "output_type": "display_data"
    }
   ],
   "source": [
    " # Plot history\n",
    "def smooth_curve(points, factor=0.8):\n",
    "    smoothed_points = []\n",
    "    for point in points:\n",
    "        if smoothed_points:\n",
    "            previous = smoothed_points[-1]\n",
    "            smoothed_points.append(previous * factor + point * (1 - factor))\n",
    "        else:\n",
    "            smoothed_points.append(point)\n",
    "    return smoothed_points\n",
    "\n",
    "acc = smooth_curve(history.history['acc'])\n",
    "val_acc = smooth_curve(history.history['val_acc'])\n",
    "loss = smooth_curve(history.history['loss'])\n",
    "val_loss = smooth_curve(history.history['val_loss'])\n",
    "epochs = range(1, len(acc) + 1)\n",
    "\n",
    "fig, axs = plt.subplots(1, 2, figsize=(15, 7))\n",
    "axs[0].plot(epochs, acc, 'bo', label='Training_acc')\n",
    "axs[0].plot(epochs, val_acc, 'b', label='Validation_acc')\n",
    "axs[0].legend()\n",
    "axs[1].plot(epochs, loss, 'bo', label='Training_loss')\n",
    "axs[1].plot(epochs, val_loss, 'b', label='Validation_loss')\n",
    "axs[1].legend()\n",
    "plt.show()"
   ]
  },
  {
   "cell_type": "markdown",
   "metadata": {},
   "source": [
    "### Testing"
   ]
  },
  {
   "cell_type": "code",
   "execution_count": 33,
   "metadata": {},
   "outputs": [
    {
     "name": "stdout",
     "output_type": "stream",
     "text": [
      "Accuracy on training data: 0.5130890011787415% \n",
      " Error on training data: 0.48691099882125854\n",
      "\n",
      "Accuracy on test data: 0.4904943108558655% \n",
      " Error on test data: 0.5095056891441345\n"
     ]
    }
   ],
   "source": [
    "pred_train= model.predict(train_features)\n",
    "scores = model.evaluate(train_features, train_targets, verbose=0)\n",
    "print('Accuracy on training data: {}% \\n Error on training data: {}\\n'.format(scores[1], 1 - scores[1]))   \n",
    " \n",
    "pred_test= model.predict(val_features)\n",
    "scores2 = model.evaluate(val_features, val_targets, verbose=0)\n",
    "print('Accuracy on test data: {}% \\n Error on test data: {}'.format(scores2[1], 1 - scores2[1]))    "
   ]
  },
  {
   "cell_type": "code",
   "execution_count": null,
   "metadata": {},
   "outputs": [],
   "source": []
  }
 ],
 "metadata": {
  "kernelspec": {
   "display_name": "Python 3",
   "language": "python",
   "name": "python3"
  },
  "language_info": {
   "codemirror_mode": {
    "name": "ipython",
    "version": 3
   },
   "file_extension": ".py",
   "mimetype": "text/x-python",
   "name": "python",
   "nbconvert_exporter": "python",
   "pygments_lexer": "ipython3",
   "version": "3.7.3"
  }
 },
 "nbformat": 4,
 "nbformat_minor": 4
}
